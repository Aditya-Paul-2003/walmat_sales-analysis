{
 "cells": [
  {
   "cell_type": "code",
   "execution_count": 1,
   "id": "3581c171",
   "metadata": {},
   "outputs": [
    {
     "name": "stdout",
     "output_type": "stream",
     "text": [
      "Hello World\n"
     ]
    }
   ],
   "source": [
    "print(\"Hello World\")\n"
   ]
  },
  {
   "cell_type": "markdown",
   "id": "491f15f3",
   "metadata": {},
   "source": [
    "## **WALMART SALES DATA CLEANING**"
   ]
  },
  {
   "cell_type": "markdown",
   "id": "c0d841a9",
   "metadata": {},
   "source": [
    "#### **Step 1 DATA EXPLORATION & LEADING**"
   ]
  },
  {
   "cell_type": "code",
   "execution_count": 2,
   "id": "d81ea6e5",
   "metadata": {},
   "outputs": [],
   "source": [
    "#importing dependencies\n",
    "import pandas as pd\n",
    "\n",
    "#mysql toolkit\n",
    "\n",
    "import pymysql # this will work as an adapter\n",
    "from sqlalchemy import create_engine\n",
    "\n",
    "#psql\n",
    "#psycopg2  pip install psycopg2"
   ]
  },
  {
   "cell_type": "code",
   "execution_count": 3,
   "id": "0d959c3f",
   "metadata": {},
   "outputs": [
    {
     "name": "stdout",
     "output_type": "stream",
     "text": [
      "2.3.2\n"
     ]
    }
   ],
   "source": [
    "print(pd.__version__)"
   ]
  },
  {
   "cell_type": "code",
   "execution_count": 4,
   "id": "e806f3bf",
   "metadata": {},
   "outputs": [
    {
     "data": {
      "text/plain": [
       "(10051, 11)"
      ]
     },
     "execution_count": 4,
     "metadata": {},
     "output_type": "execute_result"
    }
   ],
   "source": [
    "df = pd.read_csv('Walmart.csv', encoding_errors='ignore')\n",
    "df.shape"
   ]
  },
  {
   "cell_type": "code",
   "execution_count": 5,
   "id": "9d8e19b8",
   "metadata": {},
   "outputs": [
    {
     "data": {
      "text/html": [
       "<div>\n",
       "<style scoped>\n",
       "    .dataframe tbody tr th:only-of-type {\n",
       "        vertical-align: middle;\n",
       "    }\n",
       "\n",
       "    .dataframe tbody tr th {\n",
       "        vertical-align: top;\n",
       "    }\n",
       "\n",
       "    .dataframe thead th {\n",
       "        text-align: right;\n",
       "    }\n",
       "</style>\n",
       "<table border=\"1\" class=\"dataframe\">\n",
       "  <thead>\n",
       "    <tr style=\"text-align: right;\">\n",
       "      <th></th>\n",
       "      <th>invoice_id</th>\n",
       "      <th>Branch</th>\n",
       "      <th>City</th>\n",
       "      <th>category</th>\n",
       "      <th>unit_price</th>\n",
       "      <th>quantity</th>\n",
       "      <th>date</th>\n",
       "      <th>time</th>\n",
       "      <th>payment_method</th>\n",
       "      <th>rating</th>\n",
       "      <th>profit_margin</th>\n",
       "    </tr>\n",
       "  </thead>\n",
       "  <tbody>\n",
       "    <tr>\n",
       "      <th>0</th>\n",
       "      <td>1</td>\n",
       "      <td>WALM003</td>\n",
       "      <td>San Antonio</td>\n",
       "      <td>Health and beauty</td>\n",
       "      <td>$74.69</td>\n",
       "      <td>7.0</td>\n",
       "      <td>05/01/19</td>\n",
       "      <td>13:08:00</td>\n",
       "      <td>Ewallet</td>\n",
       "      <td>9.1</td>\n",
       "      <td>0.48</td>\n",
       "    </tr>\n",
       "    <tr>\n",
       "      <th>1</th>\n",
       "      <td>2</td>\n",
       "      <td>WALM048</td>\n",
       "      <td>Harlingen</td>\n",
       "      <td>Electronic accessories</td>\n",
       "      <td>$15.28</td>\n",
       "      <td>5.0</td>\n",
       "      <td>08/03/19</td>\n",
       "      <td>10:29:00</td>\n",
       "      <td>Cash</td>\n",
       "      <td>9.6</td>\n",
       "      <td>0.48</td>\n",
       "    </tr>\n",
       "    <tr>\n",
       "      <th>2</th>\n",
       "      <td>3</td>\n",
       "      <td>WALM067</td>\n",
       "      <td>Haltom City</td>\n",
       "      <td>Home and lifestyle</td>\n",
       "      <td>$46.33</td>\n",
       "      <td>7.0</td>\n",
       "      <td>03/03/19</td>\n",
       "      <td>13:23:00</td>\n",
       "      <td>Credit card</td>\n",
       "      <td>7.4</td>\n",
       "      <td>0.33</td>\n",
       "    </tr>\n",
       "    <tr>\n",
       "      <th>3</th>\n",
       "      <td>4</td>\n",
       "      <td>WALM064</td>\n",
       "      <td>Bedford</td>\n",
       "      <td>Health and beauty</td>\n",
       "      <td>$58.22</td>\n",
       "      <td>8.0</td>\n",
       "      <td>27/01/19</td>\n",
       "      <td>20:33:00</td>\n",
       "      <td>Ewallet</td>\n",
       "      <td>8.4</td>\n",
       "      <td>0.33</td>\n",
       "    </tr>\n",
       "    <tr>\n",
       "      <th>4</th>\n",
       "      <td>5</td>\n",
       "      <td>WALM013</td>\n",
       "      <td>Irving</td>\n",
       "      <td>Sports and travel</td>\n",
       "      <td>$86.31</td>\n",
       "      <td>7.0</td>\n",
       "      <td>08/02/19</td>\n",
       "      <td>10:37:00</td>\n",
       "      <td>Ewallet</td>\n",
       "      <td>5.3</td>\n",
       "      <td>0.48</td>\n",
       "    </tr>\n",
       "  </tbody>\n",
       "</table>\n",
       "</div>"
      ],
      "text/plain": [
       "   invoice_id   Branch         City                category unit_price  \\\n",
       "0           1  WALM003  San Antonio       Health and beauty     $74.69   \n",
       "1           2  WALM048    Harlingen  Electronic accessories     $15.28   \n",
       "2           3  WALM067  Haltom City      Home and lifestyle     $46.33   \n",
       "3           4  WALM064      Bedford       Health and beauty     $58.22   \n",
       "4           5  WALM013       Irving       Sports and travel     $86.31   \n",
       "\n",
       "   quantity      date      time payment_method  rating  profit_margin  \n",
       "0       7.0  05/01/19  13:08:00        Ewallet     9.1           0.48  \n",
       "1       5.0  08/03/19  10:29:00           Cash     9.6           0.48  \n",
       "2       7.0  03/03/19  13:23:00    Credit card     7.4           0.33  \n",
       "3       8.0  27/01/19  20:33:00        Ewallet     8.4           0.33  \n",
       "4       7.0  08/02/19  10:37:00        Ewallet     5.3           0.48  "
      ]
     },
     "execution_count": 5,
     "metadata": {},
     "output_type": "execute_result"
    }
   ],
   "source": [
    "df.head()"
   ]
  },
  {
   "cell_type": "code",
   "execution_count": 6,
   "id": "93d88aaa",
   "metadata": {},
   "outputs": [
    {
     "data": {
      "text/html": [
       "<div>\n",
       "<style scoped>\n",
       "    .dataframe tbody tr th:only-of-type {\n",
       "        vertical-align: middle;\n",
       "    }\n",
       "\n",
       "    .dataframe tbody tr th {\n",
       "        vertical-align: top;\n",
       "    }\n",
       "\n",
       "    .dataframe thead th {\n",
       "        text-align: right;\n",
       "    }\n",
       "</style>\n",
       "<table border=\"1\" class=\"dataframe\">\n",
       "  <thead>\n",
       "    <tr style=\"text-align: right;\">\n",
       "      <th></th>\n",
       "      <th>invoice_id</th>\n",
       "      <th>Branch</th>\n",
       "      <th>City</th>\n",
       "      <th>category</th>\n",
       "      <th>unit_price</th>\n",
       "      <th>quantity</th>\n",
       "      <th>date</th>\n",
       "      <th>time</th>\n",
       "      <th>payment_method</th>\n",
       "      <th>rating</th>\n",
       "      <th>profit_margin</th>\n",
       "    </tr>\n",
       "  </thead>\n",
       "  <tbody>\n",
       "    <tr>\n",
       "      <th>10046</th>\n",
       "      <td>9996</td>\n",
       "      <td>WALM056</td>\n",
       "      <td>Rowlett</td>\n",
       "      <td>Fashion accessories</td>\n",
       "      <td>$37</td>\n",
       "      <td>3.0</td>\n",
       "      <td>03/08/23</td>\n",
       "      <td>10:10:00</td>\n",
       "      <td>Cash</td>\n",
       "      <td>3.0</td>\n",
       "      <td>0.33</td>\n",
       "    </tr>\n",
       "    <tr>\n",
       "      <th>10047</th>\n",
       "      <td>9997</td>\n",
       "      <td>WALM030</td>\n",
       "      <td>Richardson</td>\n",
       "      <td>Home and lifestyle</td>\n",
       "      <td>$58</td>\n",
       "      <td>2.0</td>\n",
       "      <td>22/02/21</td>\n",
       "      <td>14:20:00</td>\n",
       "      <td>Cash</td>\n",
       "      <td>7.0</td>\n",
       "      <td>0.48</td>\n",
       "    </tr>\n",
       "    <tr>\n",
       "      <th>10048</th>\n",
       "      <td>9998</td>\n",
       "      <td>WALM050</td>\n",
       "      <td>Victoria</td>\n",
       "      <td>Fashion accessories</td>\n",
       "      <td>$52</td>\n",
       "      <td>3.0</td>\n",
       "      <td>15/06/23</td>\n",
       "      <td>16:00:00</td>\n",
       "      <td>Credit card</td>\n",
       "      <td>4.0</td>\n",
       "      <td>0.48</td>\n",
       "    </tr>\n",
       "    <tr>\n",
       "      <th>10049</th>\n",
       "      <td>9999</td>\n",
       "      <td>WALM032</td>\n",
       "      <td>Tyler</td>\n",
       "      <td>Home and lifestyle</td>\n",
       "      <td>$79</td>\n",
       "      <td>2.0</td>\n",
       "      <td>25/02/21</td>\n",
       "      <td>12:25:00</td>\n",
       "      <td>Cash</td>\n",
       "      <td>7.0</td>\n",
       "      <td>0.48</td>\n",
       "    </tr>\n",
       "    <tr>\n",
       "      <th>10050</th>\n",
       "      <td>10000</td>\n",
       "      <td>WALM069</td>\n",
       "      <td>Rockwall</td>\n",
       "      <td>Fashion accessories</td>\n",
       "      <td>$62</td>\n",
       "      <td>3.0</td>\n",
       "      <td>26/09/20</td>\n",
       "      <td>9:48:00</td>\n",
       "      <td>Cash</td>\n",
       "      <td>3.0</td>\n",
       "      <td>0.33</td>\n",
       "    </tr>\n",
       "  </tbody>\n",
       "</table>\n",
       "</div>"
      ],
      "text/plain": [
       "       invoice_id   Branch        City             category unit_price  \\\n",
       "10046        9996  WALM056     Rowlett  Fashion accessories        $37   \n",
       "10047        9997  WALM030  Richardson   Home and lifestyle        $58   \n",
       "10048        9998  WALM050    Victoria  Fashion accessories        $52   \n",
       "10049        9999  WALM032       Tyler   Home and lifestyle        $79   \n",
       "10050       10000  WALM069    Rockwall  Fashion accessories        $62   \n",
       "\n",
       "       quantity      date      time payment_method  rating  profit_margin  \n",
       "10046       3.0  03/08/23  10:10:00           Cash     3.0           0.33  \n",
       "10047       2.0  22/02/21  14:20:00           Cash     7.0           0.48  \n",
       "10048       3.0  15/06/23  16:00:00    Credit card     4.0           0.48  \n",
       "10049       2.0  25/02/21  12:25:00           Cash     7.0           0.48  \n",
       "10050       3.0  26/09/20   9:48:00           Cash     3.0           0.33  "
      ]
     },
     "execution_count": 6,
     "metadata": {},
     "output_type": "execute_result"
    }
   ],
   "source": [
    "df.tail()"
   ]
  },
  {
   "cell_type": "code",
   "execution_count": 7,
   "id": "d04d0e17",
   "metadata": {},
   "outputs": [
    {
     "data": {
      "text/html": [
       "<div>\n",
       "<style scoped>\n",
       "    .dataframe tbody tr th:only-of-type {\n",
       "        vertical-align: middle;\n",
       "    }\n",
       "\n",
       "    .dataframe tbody tr th {\n",
       "        vertical-align: top;\n",
       "    }\n",
       "\n",
       "    .dataframe thead th {\n",
       "        text-align: right;\n",
       "    }\n",
       "</style>\n",
       "<table border=\"1\" class=\"dataframe\">\n",
       "  <thead>\n",
       "    <tr style=\"text-align: right;\">\n",
       "      <th></th>\n",
       "      <th>invoice_id</th>\n",
       "      <th>quantity</th>\n",
       "      <th>rating</th>\n",
       "      <th>profit_margin</th>\n",
       "    </tr>\n",
       "  </thead>\n",
       "  <tbody>\n",
       "    <tr>\n",
       "      <th>count</th>\n",
       "      <td>10051.000000</td>\n",
       "      <td>10020.000000</td>\n",
       "      <td>10051.000000</td>\n",
       "      <td>10051.000000</td>\n",
       "    </tr>\n",
       "    <tr>\n",
       "      <th>mean</th>\n",
       "      <td>5025.741220</td>\n",
       "      <td>2.353493</td>\n",
       "      <td>5.825659</td>\n",
       "      <td>0.393791</td>\n",
       "    </tr>\n",
       "    <tr>\n",
       "      <th>std</th>\n",
       "      <td>2901.174372</td>\n",
       "      <td>1.602658</td>\n",
       "      <td>1.763991</td>\n",
       "      <td>0.090669</td>\n",
       "    </tr>\n",
       "    <tr>\n",
       "      <th>min</th>\n",
       "      <td>1.000000</td>\n",
       "      <td>1.000000</td>\n",
       "      <td>3.000000</td>\n",
       "      <td>0.180000</td>\n",
       "    </tr>\n",
       "    <tr>\n",
       "      <th>25%</th>\n",
       "      <td>2513.500000</td>\n",
       "      <td>1.000000</td>\n",
       "      <td>4.000000</td>\n",
       "      <td>0.330000</td>\n",
       "    </tr>\n",
       "    <tr>\n",
       "      <th>50%</th>\n",
       "      <td>5026.000000</td>\n",
       "      <td>2.000000</td>\n",
       "      <td>6.000000</td>\n",
       "      <td>0.330000</td>\n",
       "    </tr>\n",
       "    <tr>\n",
       "      <th>75%</th>\n",
       "      <td>7538.500000</td>\n",
       "      <td>3.000000</td>\n",
       "      <td>7.000000</td>\n",
       "      <td>0.480000</td>\n",
       "    </tr>\n",
       "    <tr>\n",
       "      <th>max</th>\n",
       "      <td>10000.000000</td>\n",
       "      <td>10.000000</td>\n",
       "      <td>10.000000</td>\n",
       "      <td>0.570000</td>\n",
       "    </tr>\n",
       "  </tbody>\n",
       "</table>\n",
       "</div>"
      ],
      "text/plain": [
       "         invoice_id      quantity        rating  profit_margin\n",
       "count  10051.000000  10020.000000  10051.000000   10051.000000\n",
       "mean    5025.741220      2.353493      5.825659       0.393791\n",
       "std     2901.174372      1.602658      1.763991       0.090669\n",
       "min        1.000000      1.000000      3.000000       0.180000\n",
       "25%     2513.500000      1.000000      4.000000       0.330000\n",
       "50%     5026.000000      2.000000      6.000000       0.330000\n",
       "75%     7538.500000      3.000000      7.000000       0.480000\n",
       "max    10000.000000     10.000000     10.000000       0.570000"
      ]
     },
     "execution_count": 7,
     "metadata": {},
     "output_type": "execute_result"
    }
   ],
   "source": [
    "df.describe()\n"
   ]
  },
  {
   "cell_type": "markdown",
   "id": "149551f1",
   "metadata": {},
   "source": [
    "From above table we can already idetify anomalies like:\n",
    "\n",
    "\\> all **invoice_id, rating, profit_margin** has total **10051** number of rows while **quantity** has only **10020** rows only so it sugggest, we may identify some missing datas or NULL values"
   ]
  },
  {
   "cell_type": "code",
   "execution_count": 8,
   "id": "02f4418d",
   "metadata": {},
   "outputs": [
    {
     "data": {
      "text/plain": [
       "<bound method DataFrame.info of        invoice_id   Branch         City                category unit_price  \\\n",
       "0               1  WALM003  San Antonio       Health and beauty     $74.69   \n",
       "1               2  WALM048    Harlingen  Electronic accessories     $15.28   \n",
       "2               3  WALM067  Haltom City      Home and lifestyle     $46.33   \n",
       "3               4  WALM064      Bedford       Health and beauty     $58.22   \n",
       "4               5  WALM013       Irving       Sports and travel     $86.31   \n",
       "...           ...      ...          ...                     ...        ...   \n",
       "10046        9996  WALM056      Rowlett     Fashion accessories        $37   \n",
       "10047        9997  WALM030   Richardson      Home and lifestyle        $58   \n",
       "10048        9998  WALM050     Victoria     Fashion accessories        $52   \n",
       "10049        9999  WALM032        Tyler      Home and lifestyle        $79   \n",
       "10050       10000  WALM069     Rockwall     Fashion accessories        $62   \n",
       "\n",
       "       quantity      date      time payment_method  rating  profit_margin  \n",
       "0           7.0  05/01/19  13:08:00        Ewallet     9.1           0.48  \n",
       "1           5.0  08/03/19  10:29:00           Cash     9.6           0.48  \n",
       "2           7.0  03/03/19  13:23:00    Credit card     7.4           0.33  \n",
       "3           8.0  27/01/19  20:33:00        Ewallet     8.4           0.33  \n",
       "4           7.0  08/02/19  10:37:00        Ewallet     5.3           0.48  \n",
       "...         ...       ...       ...            ...     ...            ...  \n",
       "10046       3.0  03/08/23  10:10:00           Cash     3.0           0.33  \n",
       "10047       2.0  22/02/21  14:20:00           Cash     7.0           0.48  \n",
       "10048       3.0  15/06/23  16:00:00    Credit card     4.0           0.48  \n",
       "10049       2.0  25/02/21  12:25:00           Cash     7.0           0.48  \n",
       "10050       3.0  26/09/20   9:48:00           Cash     3.0           0.33  \n",
       "\n",
       "[10051 rows x 11 columns]>"
      ]
     },
     "execution_count": 8,
     "metadata": {},
     "output_type": "execute_result"
    }
   ],
   "source": [
    "df.info"
   ]
  },
  {
   "cell_type": "code",
   "execution_count": 9,
   "id": "0ab454e3",
   "metadata": {},
   "outputs": [
    {
     "name": "stdout",
     "output_type": "stream",
     "text": [
      "<class 'pandas.core.frame.DataFrame'>\n",
      "RangeIndex: 10051 entries, 0 to 10050\n",
      "Data columns (total 11 columns):\n",
      " #   Column          Non-Null Count  Dtype  \n",
      "---  ------          --------------  -----  \n",
      " 0   invoice_id      10051 non-null  int64  \n",
      " 1   Branch          10051 non-null  object \n",
      " 2   City            10051 non-null  object \n",
      " 3   category        10051 non-null  object \n",
      " 4   unit_price      10020 non-null  object \n",
      " 5   quantity        10020 non-null  float64\n",
      " 6   date            10051 non-null  object \n",
      " 7   time            10051 non-null  object \n",
      " 8   payment_method  10051 non-null  object \n",
      " 9   rating          10051 non-null  float64\n",
      " 10  profit_margin   10051 non-null  float64\n",
      "dtypes: float64(3), int64(1), object(7)\n",
      "memory usage: 863.9+ KB\n"
     ]
    }
   ],
   "source": [
    "df.info()"
   ]
  },
  {
   "cell_type": "markdown",
   "id": "5aad5eb7",
   "metadata": {},
   "source": [
    "From above table we can already idetify anomalies like:\n",
    "\n",
    "* > All **columns or attribute** has total **10051** number of rows while **unit_price, quantity** has only **10020** rows only so it sugggest, we may identify some missing datas or NULL values\n",
    "* > Data type of **unit_price** is  **_object_** but it must be of **_numeric_** type like **quantity**"
   ]
  },
  {
   "cell_type": "markdown",
   "id": "2bba6238",
   "metadata": {},
   "source": [
    "**Now we will check for Duplicates**"
   ]
  },
  {
   "cell_type": "code",
   "execution_count": 10,
   "id": "3be215a0",
   "metadata": {},
   "outputs": [
    {
     "data": {
      "text/plain": [
       "np.int64(51)"
      ]
     },
     "execution_count": 10,
     "metadata": {},
     "output_type": "execute_result"
    }
   ],
   "source": [
    "# all duplicates\n",
    "df.duplicated().sum()"
   ]
  },
  {
   "cell_type": "markdown",
   "id": "d87edded",
   "metadata": {},
   "source": [
    "Total _51_ duplictes\n",
    "\n",
    "**Now we will count number of nulls**"
   ]
  },
  {
   "cell_type": "code",
   "execution_count": 11,
   "id": "48882fcb",
   "metadata": {},
   "outputs": [
    {
     "data": {
      "text/plain": [
       "invoice_id         0\n",
       "Branch             0\n",
       "City               0\n",
       "category           0\n",
       "unit_price        31\n",
       "quantity          31\n",
       "date               0\n",
       "time               0\n",
       "payment_method     0\n",
       "rating             0\n",
       "profit_margin      0\n",
       "dtype: int64"
      ]
     },
     "execution_count": 11,
     "metadata": {},
     "output_type": "execute_result"
    }
   ],
   "source": [
    "df.isnull().sum()"
   ]
  },
  {
   "cell_type": "markdown",
   "id": "2ab24887",
   "metadata": {},
   "source": [
    "So, _unit price and  quantity_ has total _31_ nulls  \n",
    "**Now we will drop duplicates and again check number of nulls**"
   ]
  },
  {
   "cell_type": "code",
   "execution_count": 12,
   "id": "06f3dd04",
   "metadata": {},
   "outputs": [
    {
     "data": {
      "text/plain": [
       "np.int64(0)"
      ]
     },
     "execution_count": 12,
     "metadata": {},
     "output_type": "execute_result"
    }
   ],
   "source": [
    "df.drop_duplicates(inplace=True)\n",
    "df.duplicated().sum()"
   ]
  },
  {
   "cell_type": "code",
   "execution_count": 13,
   "id": "cda3774c",
   "metadata": {},
   "outputs": [
    {
     "data": {
      "text/plain": [
       "(10000, 11)"
      ]
     },
     "execution_count": 13,
     "metadata": {},
     "output_type": "execute_result"
    }
   ],
   "source": [
    "df.shape"
   ]
  },
  {
   "cell_type": "markdown",
   "id": "49120ba6",
   "metadata": {},
   "source": [
    "Now we can observe the duplicates value is being removed and shape was previously (10051, 11) and now its (10000, 11)  \n",
    "**Now lets drop the Null values**"
   ]
  },
  {
   "cell_type": "code",
   "execution_count": 14,
   "id": "b86af190",
   "metadata": {},
   "outputs": [
    {
     "data": {
      "text/plain": [
       "invoice_id        0\n",
       "Branch            0\n",
       "City              0\n",
       "category          0\n",
       "unit_price        0\n",
       "quantity          0\n",
       "date              0\n",
       "time              0\n",
       "payment_method    0\n",
       "rating            0\n",
       "profit_margin     0\n",
       "dtype: int64"
      ]
     },
     "execution_count": 14,
     "metadata": {},
     "output_type": "execute_result"
    }
   ],
   "source": [
    "#dropping all values with missing records\n",
    "df.dropna(inplace=True)\n",
    "df.isnull().sum()"
   ]
  },
  {
   "cell_type": "code",
   "execution_count": 15,
   "id": "8dbb8864",
   "metadata": {},
   "outputs": [
    {
     "data": {
      "text/plain": [
       "(9969, 11)"
      ]
     },
     "execution_count": 15,
     "metadata": {},
     "output_type": "execute_result"
    }
   ],
   "source": [
    "df.shape"
   ]
  },
  {
   "cell_type": "markdown",
   "id": "ab3ee4a1",
   "metadata": {},
   "source": [
    "So clearly we can see the null count is 0 for each row, and the shape of the table is furthur modified from (10000,11) to (9969,11)"
   ]
  },
  {
   "cell_type": "markdown",
   "id": "da621338",
   "metadata": {},
   "source": [
    "**Now we will take care of the data type of unit_price column**\n",
    "\n",
    "The unit price column will be problamatic to deal with when we are performing any arithmatic calculations or funtions"
   ]
  },
  {
   "cell_type": "code",
   "execution_count": 16,
   "id": "66a6c782",
   "metadata": {},
   "outputs": [],
   "source": [
    "#df['unit_price'].astype(float)"
   ]
  },
  {
   "cell_type": "markdown",
   "id": "4928ea9c",
   "metadata": {},
   "source": [
    "---------------------------------------------------------------------------\n",
    "ValueError                                Traceback (most recent call last)\n",
    "Cell In[51], line 1\n",
    "----> 1 df['unit_price'].astype(float)\n",
    "\n",
    "File c:\\Users\\paula\\Documents\\My Workspace\\Projects\\Walmart_sales_dataAnalysis\\.env_WalmartSales\\Lib\\site-packages\\pandas\\core\\generic.py:6662, in NDFrame.astype(self, dtype, copy, errors)\n",
    "   6656     results = [\n",
    "   6657         ser.astype(dtype, copy=copy, errors=errors) for _, ser in self.items()\n",
    "   6658     ]\n",
    "   6660 else:\n",
    "   6661     # else, only a single dtype is given\n",
    "-> 6662     new_data = self._mgr.astype(dtype=dtype, copy=copy, errors=errors)\n",
    "   6663     res = self._constructor_from_mgr(new_data, axes=new_data.axes)\n",
    "   6664     return res.__finalize__(self, method=\"astype\")\n",
    "\n",
    "File c:\\Users\\paula\\Documents\\My Workspace\\Projects\\Walmart_sales_dataAnalysis\\.env_WalmartSales\\Lib\\site-packages\\pandas\\core\\internals\\managers.py:430, in BaseBlockManager.astype(self, dtype, copy, errors)\n",
    "    427 elif using_copy_on_write():\n",
    "    428     copy = False\n",
    "--> 430 return self.apply(\n",
    "    431     \"astype\",\n",
    "    432     dtype=dtype,\n",
    "    433     copy=copy,\n",
    "    434     errors=errors,\n",
    "    435     using_cow=using_copy_on_write(),\n",
    "    436 )\n",
    "...\n",
    "    132     # Explicit copy, or required since NumPy can't view from / to object.\n",
    "--> 133     return arr.astype(dtype, copy=True)\n",
    "    135 return arr.astype(dtype, copy=copy)\n",
    "\n",
    "ValueError: could not convert string to float: '$74.69'\n",
    "Output is truncated. View as a scrollable element or open in a text editor. Adjust cell output settings..."
   ]
  },
  {
   "cell_type": "markdown",
   "id": "113690ee",
   "metadata": {},
   "source": [
    "**_ValueError: could not convert string to float: '$74.69'_**  \n",
    "Explicit copy, or required since NumPy can't view from / to object."
   ]
  },
  {
   "cell_type": "code",
   "execution_count": 17,
   "id": "44086867",
   "metadata": {},
   "outputs": [
    {
     "data": {
      "text/html": [
       "<div>\n",
       "<style scoped>\n",
       "    .dataframe tbody tr th:only-of-type {\n",
       "        vertical-align: middle;\n",
       "    }\n",
       "\n",
       "    .dataframe tbody tr th {\n",
       "        vertical-align: top;\n",
       "    }\n",
       "\n",
       "    .dataframe thead th {\n",
       "        text-align: right;\n",
       "    }\n",
       "</style>\n",
       "<table border=\"1\" class=\"dataframe\">\n",
       "  <thead>\n",
       "    <tr style=\"text-align: right;\">\n",
       "      <th></th>\n",
       "      <th>invoice_id</th>\n",
       "      <th>Branch</th>\n",
       "      <th>City</th>\n",
       "      <th>category</th>\n",
       "      <th>unit_price</th>\n",
       "      <th>quantity</th>\n",
       "      <th>date</th>\n",
       "      <th>time</th>\n",
       "      <th>payment_method</th>\n",
       "      <th>rating</th>\n",
       "      <th>profit_margin</th>\n",
       "    </tr>\n",
       "  </thead>\n",
       "  <tbody>\n",
       "    <tr>\n",
       "      <th>0</th>\n",
       "      <td>1</td>\n",
       "      <td>WALM003</td>\n",
       "      <td>San Antonio</td>\n",
       "      <td>Health and beauty</td>\n",
       "      <td>74.69</td>\n",
       "      <td>7.0</td>\n",
       "      <td>05/01/19</td>\n",
       "      <td>13:08:00</td>\n",
       "      <td>Ewallet</td>\n",
       "      <td>9.1</td>\n",
       "      <td>0.48</td>\n",
       "    </tr>\n",
       "    <tr>\n",
       "      <th>1</th>\n",
       "      <td>2</td>\n",
       "      <td>WALM048</td>\n",
       "      <td>Harlingen</td>\n",
       "      <td>Electronic accessories</td>\n",
       "      <td>15.28</td>\n",
       "      <td>5.0</td>\n",
       "      <td>08/03/19</td>\n",
       "      <td>10:29:00</td>\n",
       "      <td>Cash</td>\n",
       "      <td>9.6</td>\n",
       "      <td>0.48</td>\n",
       "    </tr>\n",
       "    <tr>\n",
       "      <th>2</th>\n",
       "      <td>3</td>\n",
       "      <td>WALM067</td>\n",
       "      <td>Haltom City</td>\n",
       "      <td>Home and lifestyle</td>\n",
       "      <td>46.33</td>\n",
       "      <td>7.0</td>\n",
       "      <td>03/03/19</td>\n",
       "      <td>13:23:00</td>\n",
       "      <td>Credit card</td>\n",
       "      <td>7.4</td>\n",
       "      <td>0.33</td>\n",
       "    </tr>\n",
       "    <tr>\n",
       "      <th>3</th>\n",
       "      <td>4</td>\n",
       "      <td>WALM064</td>\n",
       "      <td>Bedford</td>\n",
       "      <td>Health and beauty</td>\n",
       "      <td>58.22</td>\n",
       "      <td>8.0</td>\n",
       "      <td>27/01/19</td>\n",
       "      <td>20:33:00</td>\n",
       "      <td>Ewallet</td>\n",
       "      <td>8.4</td>\n",
       "      <td>0.33</td>\n",
       "    </tr>\n",
       "    <tr>\n",
       "      <th>4</th>\n",
       "      <td>5</td>\n",
       "      <td>WALM013</td>\n",
       "      <td>Irving</td>\n",
       "      <td>Sports and travel</td>\n",
       "      <td>86.31</td>\n",
       "      <td>7.0</td>\n",
       "      <td>08/02/19</td>\n",
       "      <td>10:37:00</td>\n",
       "      <td>Ewallet</td>\n",
       "      <td>5.3</td>\n",
       "      <td>0.48</td>\n",
       "    </tr>\n",
       "  </tbody>\n",
       "</table>\n",
       "</div>"
      ],
      "text/plain": [
       "   invoice_id   Branch         City                category  unit_price  \\\n",
       "0           1  WALM003  San Antonio       Health and beauty       74.69   \n",
       "1           2  WALM048    Harlingen  Electronic accessories       15.28   \n",
       "2           3  WALM067  Haltom City      Home and lifestyle       46.33   \n",
       "3           4  WALM064      Bedford       Health and beauty       58.22   \n",
       "4           5  WALM013       Irving       Sports and travel       86.31   \n",
       "\n",
       "   quantity      date      time payment_method  rating  profit_margin  \n",
       "0       7.0  05/01/19  13:08:00        Ewallet     9.1           0.48  \n",
       "1       5.0  08/03/19  10:29:00           Cash     9.6           0.48  \n",
       "2       7.0  03/03/19  13:23:00    Credit card     7.4           0.33  \n",
       "3       8.0  27/01/19  20:33:00        Ewallet     8.4           0.33  \n",
       "4       7.0  08/02/19  10:37:00        Ewallet     5.3           0.48  "
      ]
     },
     "execution_count": 17,
     "metadata": {},
     "output_type": "execute_result"
    }
   ],
   "source": [
    "df['unit_price'] = df['unit_price'].str.replace('$', '').astype(float)\n",
    "\n",
    "df.head()"
   ]
  },
  {
   "cell_type": "markdown",
   "id": "63a5b2f5",
   "metadata": {},
   "source": [
    "Now the dollar sign is removed"
   ]
  },
  {
   "cell_type": "code",
   "execution_count": 18,
   "id": "14b9b6ed",
   "metadata": {},
   "outputs": [
    {
     "name": "stdout",
     "output_type": "stream",
     "text": [
      "<class 'pandas.core.frame.DataFrame'>\n",
      "Index: 9969 entries, 0 to 9999\n",
      "Data columns (total 11 columns):\n",
      " #   Column          Non-Null Count  Dtype  \n",
      "---  ------          --------------  -----  \n",
      " 0   invoice_id      9969 non-null   int64  \n",
      " 1   Branch          9969 non-null   object \n",
      " 2   City            9969 non-null   object \n",
      " 3   category        9969 non-null   object \n",
      " 4   unit_price      9969 non-null   float64\n",
      " 5   quantity        9969 non-null   float64\n",
      " 6   date            9969 non-null   object \n",
      " 7   time            9969 non-null   object \n",
      " 8   payment_method  9969 non-null   object \n",
      " 9   rating          9969 non-null   float64\n",
      " 10  profit_margin   9969 non-null   float64\n",
      "dtypes: float64(4), int64(1), object(6)\n",
      "memory usage: 934.6+ KB\n"
     ]
    }
   ],
   "source": [
    "df.info()"
   ]
  },
  {
   "cell_type": "markdown",
   "id": "cf8905ee",
   "metadata": {},
   "source": [
    "data type of unit_price is converted successfully to float64"
   ]
  },
  {
   "cell_type": "code",
   "execution_count": 19,
   "id": "ea462ae7",
   "metadata": {},
   "outputs": [
    {
     "data": {
      "text/plain": [
       "Index(['invoice_id', 'Branch', 'City', 'category', 'unit_price', 'quantity',\n",
       "       'date', 'time', 'payment_method', 'rating', 'profit_margin'],\n",
       "      dtype='object')"
      ]
     },
     "execution_count": 19,
     "metadata": {},
     "output_type": "execute_result"
    }
   ],
   "source": [
    "#check all columns\n",
    "df.columns"
   ]
  },
  {
   "cell_type": "code",
   "execution_count": 20,
   "id": "e619cdb2",
   "metadata": {},
   "outputs": [
    {
     "data": {
      "text/plain": [
       "Index(['invoice_id', 'branch', 'city', 'category', 'unit_price', 'quantity',\n",
       "       'date', 'time', 'payment_method', 'rating', 'profit_margin'],\n",
       "      dtype='object')"
      ]
     },
     "execution_count": 20,
     "metadata": {},
     "output_type": "execute_result"
    }
   ],
   "source": [
    "df.columns = df.columns.str.lower()\n",
    "df.columns"
   ]
  },
  {
   "cell_type": "code",
   "execution_count": 21,
   "id": "8e56debc",
   "metadata": {},
   "outputs": [
    {
     "data": {
      "text/html": [
       "<div>\n",
       "<style scoped>\n",
       "    .dataframe tbody tr th:only-of-type {\n",
       "        vertical-align: middle;\n",
       "    }\n",
       "\n",
       "    .dataframe tbody tr th {\n",
       "        vertical-align: top;\n",
       "    }\n",
       "\n",
       "    .dataframe thead th {\n",
       "        text-align: right;\n",
       "    }\n",
       "</style>\n",
       "<table border=\"1\" class=\"dataframe\">\n",
       "  <thead>\n",
       "    <tr style=\"text-align: right;\">\n",
       "      <th></th>\n",
       "      <th>invoice_id</th>\n",
       "      <th>branch</th>\n",
       "      <th>city</th>\n",
       "      <th>category</th>\n",
       "      <th>unit_price</th>\n",
       "      <th>quantity</th>\n",
       "      <th>date</th>\n",
       "      <th>time</th>\n",
       "      <th>payment_method</th>\n",
       "      <th>rating</th>\n",
       "      <th>profit_margin</th>\n",
       "      <th>total</th>\n",
       "    </tr>\n",
       "  </thead>\n",
       "  <tbody>\n",
       "    <tr>\n",
       "      <th>0</th>\n",
       "      <td>1</td>\n",
       "      <td>WALM003</td>\n",
       "      <td>San Antonio</td>\n",
       "      <td>Health and beauty</td>\n",
       "      <td>74.69</td>\n",
       "      <td>7.0</td>\n",
       "      <td>05/01/19</td>\n",
       "      <td>13:08:00</td>\n",
       "      <td>Ewallet</td>\n",
       "      <td>9.1</td>\n",
       "      <td>0.48</td>\n",
       "      <td>522.83</td>\n",
       "    </tr>\n",
       "    <tr>\n",
       "      <th>1</th>\n",
       "      <td>2</td>\n",
       "      <td>WALM048</td>\n",
       "      <td>Harlingen</td>\n",
       "      <td>Electronic accessories</td>\n",
       "      <td>15.28</td>\n",
       "      <td>5.0</td>\n",
       "      <td>08/03/19</td>\n",
       "      <td>10:29:00</td>\n",
       "      <td>Cash</td>\n",
       "      <td>9.6</td>\n",
       "      <td>0.48</td>\n",
       "      <td>76.40</td>\n",
       "    </tr>\n",
       "    <tr>\n",
       "      <th>2</th>\n",
       "      <td>3</td>\n",
       "      <td>WALM067</td>\n",
       "      <td>Haltom City</td>\n",
       "      <td>Home and lifestyle</td>\n",
       "      <td>46.33</td>\n",
       "      <td>7.0</td>\n",
       "      <td>03/03/19</td>\n",
       "      <td>13:23:00</td>\n",
       "      <td>Credit card</td>\n",
       "      <td>7.4</td>\n",
       "      <td>0.33</td>\n",
       "      <td>324.31</td>\n",
       "    </tr>\n",
       "    <tr>\n",
       "      <th>3</th>\n",
       "      <td>4</td>\n",
       "      <td>WALM064</td>\n",
       "      <td>Bedford</td>\n",
       "      <td>Health and beauty</td>\n",
       "      <td>58.22</td>\n",
       "      <td>8.0</td>\n",
       "      <td>27/01/19</td>\n",
       "      <td>20:33:00</td>\n",
       "      <td>Ewallet</td>\n",
       "      <td>8.4</td>\n",
       "      <td>0.33</td>\n",
       "      <td>465.76</td>\n",
       "    </tr>\n",
       "    <tr>\n",
       "      <th>4</th>\n",
       "      <td>5</td>\n",
       "      <td>WALM013</td>\n",
       "      <td>Irving</td>\n",
       "      <td>Sports and travel</td>\n",
       "      <td>86.31</td>\n",
       "      <td>7.0</td>\n",
       "      <td>08/02/19</td>\n",
       "      <td>10:37:00</td>\n",
       "      <td>Ewallet</td>\n",
       "      <td>5.3</td>\n",
       "      <td>0.48</td>\n",
       "      <td>604.17</td>\n",
       "    </tr>\n",
       "  </tbody>\n",
       "</table>\n",
       "</div>"
      ],
      "text/plain": [
       "   invoice_id   branch         city                category  unit_price  \\\n",
       "0           1  WALM003  San Antonio       Health and beauty       74.69   \n",
       "1           2  WALM048    Harlingen  Electronic accessories       15.28   \n",
       "2           3  WALM067  Haltom City      Home and lifestyle       46.33   \n",
       "3           4  WALM064      Bedford       Health and beauty       58.22   \n",
       "4           5  WALM013       Irving       Sports and travel       86.31   \n",
       "\n",
       "   quantity      date      time payment_method  rating  profit_margin   total  \n",
       "0       7.0  05/01/19  13:08:00        Ewallet     9.1           0.48  522.83  \n",
       "1       5.0  08/03/19  10:29:00           Cash     9.6           0.48   76.40  \n",
       "2       7.0  03/03/19  13:23:00    Credit card     7.4           0.33  324.31  \n",
       "3       8.0  27/01/19  20:33:00        Ewallet     8.4           0.33  465.76  \n",
       "4       7.0  08/02/19  10:37:00        Ewallet     5.3           0.48  604.17  "
      ]
     },
     "execution_count": 21,
     "metadata": {},
     "output_type": "execute_result"
    }
   ],
   "source": [
    "df['total'] = df['unit_price'] * df['quantity']\n",
    "\n",
    "df.head()"
   ]
  },
  {
   "cell_type": "code",
   "execution_count": 22,
   "id": "2307a0ba",
   "metadata": {},
   "outputs": [],
   "source": [
    "# importing dependencies\n",
    "\n",
    "# mysql\n",
    "# host = localhost\n",
    "# port = 3306\n",
    "# user = root\n",
    "# password = 'your_password'"
   ]
  },
  {
   "cell_type": "code",
   "execution_count": 23,
   "id": "d93d23f2",
   "metadata": {},
   "outputs": [],
   "source": [
    "df.to_csv('Walmart_clean_data.csv', index=False)"
   ]
  },
  {
   "cell_type": "code",
   "execution_count": 24,
   "id": "b3cd4daf",
   "metadata": {},
   "outputs": [],
   "source": [
    "# import sqlite3\n",
    "# conn = sqlite3.connect(\"WalmartDB.db\")   # creates a new db file if not exists\n",
    "# cursor = conn.cursor()"
   ]
  },
  {
   "cell_type": "code",
   "execution_count": 25,
   "id": "2c9cafde",
   "metadata": {},
   "outputs": [
    {
     "name": "stdout",
     "output_type": "stream",
     "text": [
      "Connection Successed to mysql\n"
     ]
    }
   ],
   "source": [
    "#my_sql connections\n",
    "#\"mysql+pymysql://user:password'@'localhost:3306/db_name\"\n",
    "\n",
    "eng_mysql = create_engine(\"mysql+pymysql://root@localhost:3307/walmart_db\")\n",
    "try:\n",
    "    eng_mysql\n",
    "    print(\"Connection Successed to mysql\")\n",
    "except:\n",
    "    print(\"Unable to connect\")"
   ]
  },
  {
   "cell_type": "code",
   "execution_count": 26,
   "id": "8bed014d",
   "metadata": {},
   "outputs": [
    {
     "data": {
      "text/plain": [
       "9969"
      ]
     },
     "execution_count": 26,
     "metadata": {},
     "output_type": "execute_result"
    }
   ],
   "source": [
    "df.to_sql(name='walmart', con=eng_mysql, if_exists='append', index=False)"
   ]
  }
 ],
 "metadata": {
  "kernelspec": {
   "display_name": ".env_WalmartSales",
   "language": "python",
   "name": "python3"
  },
  "language_info": {
   "codemirror_mode": {
    "name": "ipython",
    "version": 3
   },
   "file_extension": ".py",
   "mimetype": "text/x-python",
   "name": "python",
   "nbconvert_exporter": "python",
   "pygments_lexer": "ipython3",
   "version": "3.13.6"
  }
 },
 "nbformat": 4,
 "nbformat_minor": 5
}
